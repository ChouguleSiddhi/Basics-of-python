{
  "nbformat": 4,
  "nbformat_minor": 0,
  "metadata": {
    "colab": {
      "name": "Python _1",
      "provenance": [],
      "authorship_tag": "ABX9TyNl/wCceQVs705xkIGRi4ff",
      "include_colab_link": true
    },
    "kernelspec": {
      "name": "python3",
      "display_name": "Python 3"
    },
    "language_info": {
      "name": "python"
    }
  },
  "cells": [
    {
      "cell_type": "markdown",
      "metadata": {
        "id": "view-in-github",
        "colab_type": "text"
      },
      "source": [
        "<a href=\"https://colab.research.google.com/github/ChouguleSiddhi/Basics-of-python/blob/main/Python__1.ipynb\" target=\"_parent\"><img src=\"https://colab.research.google.com/assets/colab-badge.svg\" alt=\"Open In Colab\"/></a>"
      ]
    },
    {
      "cell_type": "code",
      "execution_count": null,
      "metadata": {
        "colab": {
          "base_uri": "https://localhost:8080/"
        },
        "id": "bxDrRYhQDfEu",
        "outputId": "04907ef9-9feb-4314-93cb-380e89f06247"
      },
      "outputs": [
        {
          "output_type": "stream",
          "name": "stdout",
          "text": [
            "Addition: 15\n",
            "Substraction: 5\n",
            "Power: 100000\n",
            "Modulus: 0\n",
            "Multiplication: 50\n",
            "Division: 2.0\n",
            "Floor division: 2\n"
          ]
        }
      ],
      "source": [
        "x,y=10,5\n",
        "print (\"Addition:\",x+y)\n",
        "print (\"Substraction:\",x-y)\n",
        "print (\"Power:\",x**y)\n",
        "print (\"Modulus:\",x%y)\n",
        "print (\"Multiplication:\",x*y)\n",
        "print (\"Division:\",x/y)\n",
        "print (\"Floor division:\",x//y)\n",
        "\n"
      ]
    }
  ]
}